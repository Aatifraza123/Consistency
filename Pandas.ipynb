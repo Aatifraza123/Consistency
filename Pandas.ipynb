{
 "cells": [
  {
   "cell_type": "code",
   "execution_count": 1,
   "id": "7ae07afc",
   "metadata": {},
   "outputs": [
    {
     "name": "stdout",
     "output_type": "stream",
     "text": [
      "Defaulting to user installation because normal site-packages is not writeable\n",
      "Requirement already satisfied: pandas in c:\\programdata\\anaconda3\\lib\\site-packages (2.0.3)\n",
      "Requirement already satisfied: python-dateutil>=2.8.2 in c:\\programdata\\anaconda3\\lib\\site-packages (from pandas) (2.8.2)\n",
      "Requirement already satisfied: pytz>=2020.1 in c:\\programdata\\anaconda3\\lib\\site-packages (from pandas) (2023.3.post1)\n",
      "Requirement already satisfied: tzdata>=2022.1 in c:\\programdata\\anaconda3\\lib\\site-packages (from pandas) (2023.3)\n",
      "Requirement already satisfied: numpy>=1.21.0 in c:\\programdata\\anaconda3\\lib\\site-packages (from pandas) (1.24.3)\n",
      "Requirement already satisfied: six>=1.5 in c:\\programdata\\anaconda3\\lib\\site-packages (from python-dateutil>=2.8.2->pandas) (1.16.0)\n",
      "Note: you may need to restart the kernel to use updated packages.\n"
     ]
    }
   ],
   "source": [
    "pip install pandas\n"
   ]
  },
  {
   "cell_type": "code",
   "execution_count": 3,
   "id": "6ea3316c",
   "metadata": {},
   "outputs": [],
   "source": [
    "import pandas as pd\n",
    "import numpy as np"
   ]
  },
  {
   "cell_type": "code",
   "execution_count": 4,
   "id": "9edfeeaa",
   "metadata": {},
   "outputs": [],
   "source": [
    "#creating series\n",
    "ser = pd.Series(np.random.rand(34))"
   ]
  },
  {
   "cell_type": "code",
   "execution_count": 5,
   "id": "ed811d63",
   "metadata": {},
   "outputs": [
    {
     "data": {
      "text/plain": [
       "0     0.905780\n",
       "1     0.195663\n",
       "2     0.148538\n",
       "3     0.409995\n",
       "4     0.593147\n",
       "5     0.702357\n",
       "6     0.653540\n",
       "7     0.328176\n",
       "8     0.314143\n",
       "9     0.842157\n",
       "10    0.427803\n",
       "11    0.327882\n",
       "12    0.959439\n",
       "13    0.819886\n",
       "14    0.654854\n",
       "15    0.193421\n",
       "16    0.590826\n",
       "17    0.933418\n",
       "18    0.189738\n",
       "19    0.787065\n",
       "20    0.897902\n",
       "21    0.653410\n",
       "22    0.723801\n",
       "23    0.843579\n",
       "24    0.524346\n",
       "25    0.930060\n",
       "26    0.435468\n",
       "27    0.561008\n",
       "28    0.192935\n",
       "29    0.961091\n",
       "30    0.285738\n",
       "31    0.208362\n",
       "32    0.718212\n",
       "33    0.118344\n",
       "dtype: float64"
      ]
     },
     "execution_count": 5,
     "metadata": {},
     "output_type": "execute_result"
    }
   ],
   "source": [
    "ser"
   ]
  },
  {
   "cell_type": "code",
   "execution_count": 6,
   "id": "86486dca",
   "metadata": {},
   "outputs": [
    {
     "data": {
      "text/plain": [
       "pandas.core.series.Series"
      ]
     },
     "execution_count": 6,
     "metadata": {},
     "output_type": "execute_result"
    }
   ],
   "source": [
    "type(ser)"
   ]
  },
  {
   "cell_type": "code",
   "execution_count": 7,
   "id": "997a33c2",
   "metadata": {},
   "outputs": [
    {
     "data": {
      "text/plain": [
       "RangeIndex(start=0, stop=34, step=1)"
      ]
     },
     "execution_count": 7,
     "metadata": {},
     "output_type": "execute_result"
    }
   ],
   "source": [
    "ser.index"
   ]
  },
  {
   "cell_type": "code",
   "execution_count": 8,
   "id": "ac46e936",
   "metadata": {},
   "outputs": [
    {
     "data": {
      "text/plain": [
       "dtype('float64')"
      ]
     },
     "execution_count": 8,
     "metadata": {},
     "output_type": "execute_result"
    }
   ],
   "source": [
    "ser.dtype"
   ]
  },
  {
   "cell_type": "code",
   "execution_count": 10,
   "id": "acb8e200",
   "metadata": {},
   "outputs": [
    {
     "data": {
      "text/plain": [
       "0    0.905780\n",
       "1    0.195663\n",
       "2    0.148538\n",
       "3    0.409995\n",
       "4    0.593147\n",
       "dtype: float64"
      ]
     },
     "execution_count": 10,
     "metadata": {},
     "output_type": "execute_result"
    }
   ],
   "source": [
    "ser.head(5)"
   ]
  },
  {
   "cell_type": "raw",
   "id": "fcba33c6",
   "metadata": {},
   "source": [
    "ser.tail()"
   ]
  },
  {
   "cell_type": "code",
   "execution_count": 11,
   "id": "52cccd8c",
   "metadata": {},
   "outputs": [
    {
     "data": {
      "text/plain": [
       "29    0.961091\n",
       "30    0.285738\n",
       "31    0.208362\n",
       "32    0.718212\n",
       "33    0.118344\n",
       "dtype: float64"
      ]
     },
     "execution_count": 11,
     "metadata": {},
     "output_type": "execute_result"
    }
   ],
   "source": [
    "ser.tail()"
   ]
  },
  {
   "cell_type": "code",
   "execution_count": 14,
   "id": "7aa665ad",
   "metadata": {},
   "outputs": [
    {
     "data": {
      "text/html": [
       "<div>\n",
       "<style scoped>\n",
       "    .dataframe tbody tr th:only-of-type {\n",
       "        vertical-align: middle;\n",
       "    }\n",
       "\n",
       "    .dataframe tbody tr th {\n",
       "        vertical-align: top;\n",
       "    }\n",
       "\n",
       "    .dataframe thead th {\n",
       "        text-align: right;\n",
       "    }\n",
       "</style>\n",
       "<table border=\"1\" class=\"dataframe\">\n",
       "  <thead>\n",
       "    <tr style=\"text-align: right;\">\n",
       "      <th></th>\n",
       "      <th>0</th>\n",
       "      <th>1</th>\n",
       "      <th>2</th>\n",
       "      <th>3</th>\n",
       "      <th>4</th>\n",
       "      <th>5</th>\n",
       "      <th>6</th>\n",
       "      <th>7</th>\n",
       "    </tr>\n",
       "  </thead>\n",
       "  <tbody>\n",
       "    <tr>\n",
       "      <th>0</th>\n",
       "      <td>0.841283</td>\n",
       "      <td>0.854600</td>\n",
       "      <td>0.927340</td>\n",
       "      <td>0.488273</td>\n",
       "      <td>0.938692</td>\n",
       "      <td>0.049588</td>\n",
       "      <td>0.919665</td>\n",
       "      <td>0.760492</td>\n",
       "    </tr>\n",
       "    <tr>\n",
       "      <th>1</th>\n",
       "      <td>0.166835</td>\n",
       "      <td>0.132084</td>\n",
       "      <td>0.352833</td>\n",
       "      <td>0.352922</td>\n",
       "      <td>0.631764</td>\n",
       "      <td>0.720852</td>\n",
       "      <td>0.309727</td>\n",
       "      <td>0.808179</td>\n",
       "    </tr>\n",
       "    <tr>\n",
       "      <th>2</th>\n",
       "      <td>0.339046</td>\n",
       "      <td>0.914677</td>\n",
       "      <td>0.508522</td>\n",
       "      <td>0.658289</td>\n",
       "      <td>0.367003</td>\n",
       "      <td>0.235987</td>\n",
       "      <td>0.555594</td>\n",
       "      <td>0.169172</td>\n",
       "    </tr>\n",
       "    <tr>\n",
       "      <th>3</th>\n",
       "      <td>0.902237</td>\n",
       "      <td>0.558232</td>\n",
       "      <td>0.305485</td>\n",
       "      <td>0.150717</td>\n",
       "      <td>0.345024</td>\n",
       "      <td>0.378494</td>\n",
       "      <td>0.965778</td>\n",
       "      <td>0.633485</td>\n",
       "    </tr>\n",
       "    <tr>\n",
       "      <th>4</th>\n",
       "      <td>0.722296</td>\n",
       "      <td>0.219847</td>\n",
       "      <td>0.938977</td>\n",
       "      <td>0.188263</td>\n",
       "      <td>0.273341</td>\n",
       "      <td>0.665010</td>\n",
       "      <td>0.058893</td>\n",
       "      <td>0.578087</td>\n",
       "    </tr>\n",
       "    <tr>\n",
       "      <th>...</th>\n",
       "      <td>...</td>\n",
       "      <td>...</td>\n",
       "      <td>...</td>\n",
       "      <td>...</td>\n",
       "      <td>...</td>\n",
       "      <td>...</td>\n",
       "      <td>...</td>\n",
       "      <td>...</td>\n",
       "    </tr>\n",
       "    <tr>\n",
       "      <th>495</th>\n",
       "      <td>0.543187</td>\n",
       "      <td>0.251765</td>\n",
       "      <td>0.066243</td>\n",
       "      <td>0.140763</td>\n",
       "      <td>0.645900</td>\n",
       "      <td>0.367627</td>\n",
       "      <td>0.834925</td>\n",
       "      <td>0.694549</td>\n",
       "    </tr>\n",
       "    <tr>\n",
       "      <th>496</th>\n",
       "      <td>0.926720</td>\n",
       "      <td>0.875026</td>\n",
       "      <td>0.292126</td>\n",
       "      <td>0.679722</td>\n",
       "      <td>0.851132</td>\n",
       "      <td>0.219069</td>\n",
       "      <td>0.980843</td>\n",
       "      <td>0.903815</td>\n",
       "    </tr>\n",
       "    <tr>\n",
       "      <th>497</th>\n",
       "      <td>0.537479</td>\n",
       "      <td>0.294552</td>\n",
       "      <td>0.738689</td>\n",
       "      <td>0.532129</td>\n",
       "      <td>0.882982</td>\n",
       "      <td>0.997737</td>\n",
       "      <td>0.560087</td>\n",
       "      <td>0.254770</td>\n",
       "    </tr>\n",
       "    <tr>\n",
       "      <th>498</th>\n",
       "      <td>0.934015</td>\n",
       "      <td>0.676249</td>\n",
       "      <td>0.218840</td>\n",
       "      <td>0.187739</td>\n",
       "      <td>0.770647</td>\n",
       "      <td>0.514228</td>\n",
       "      <td>0.047151</td>\n",
       "      <td>0.325942</td>\n",
       "    </tr>\n",
       "    <tr>\n",
       "      <th>499</th>\n",
       "      <td>0.803622</td>\n",
       "      <td>0.598589</td>\n",
       "      <td>0.167465</td>\n",
       "      <td>0.243442</td>\n",
       "      <td>0.128478</td>\n",
       "      <td>0.166890</td>\n",
       "      <td>0.645512</td>\n",
       "      <td>0.981309</td>\n",
       "    </tr>\n",
       "  </tbody>\n",
       "</table>\n",
       "<p>500 rows × 8 columns</p>\n",
       "</div>"
      ],
      "text/plain": [
       "            0         1         2         3         4         5         6  \\\n",
       "0    0.841283  0.854600  0.927340  0.488273  0.938692  0.049588  0.919665   \n",
       "1    0.166835  0.132084  0.352833  0.352922  0.631764  0.720852  0.309727   \n",
       "2    0.339046  0.914677  0.508522  0.658289  0.367003  0.235987  0.555594   \n",
       "3    0.902237  0.558232  0.305485  0.150717  0.345024  0.378494  0.965778   \n",
       "4    0.722296  0.219847  0.938977  0.188263  0.273341  0.665010  0.058893   \n",
       "..        ...       ...       ...       ...       ...       ...       ...   \n",
       "495  0.543187  0.251765  0.066243  0.140763  0.645900  0.367627  0.834925   \n",
       "496  0.926720  0.875026  0.292126  0.679722  0.851132  0.219069  0.980843   \n",
       "497  0.537479  0.294552  0.738689  0.532129  0.882982  0.997737  0.560087   \n",
       "498  0.934015  0.676249  0.218840  0.187739  0.770647  0.514228  0.047151   \n",
       "499  0.803622  0.598589  0.167465  0.243442  0.128478  0.166890  0.645512   \n",
       "\n",
       "            7  \n",
       "0    0.760492  \n",
       "1    0.808179  \n",
       "2    0.169172  \n",
       "3    0.633485  \n",
       "4    0.578087  \n",
       "..        ...  \n",
       "495  0.694549  \n",
       "496  0.903815  \n",
       "497  0.254770  \n",
       "498  0.325942  \n",
       "499  0.981309  \n",
       "\n",
       "[500 rows x 8 columns]"
      ]
     },
     "execution_count": 14,
     "metadata": {},
     "output_type": "execute_result"
    }
   ],
   "source": [
    "df = pd.DataFrame(np.random.rand(500,8),index = np.arange(500))\n",
    "df"
   ]
  },
  {
   "cell_type": "code",
   "execution_count": 15,
   "id": "167fa878",
   "metadata": {},
   "outputs": [
    {
     "data": {
      "text/plain": [
       "pandas.core.frame.DataFrame"
      ]
     },
     "execution_count": 15,
     "metadata": {},
     "output_type": "execute_result"
    }
   ],
   "source": [
    "type(df)"
   ]
  },
  {
   "cell_type": "code",
   "execution_count": 16,
   "id": "081090ec",
   "metadata": {},
   "outputs": [
    {
     "data": {
      "text/plain": [
       "RangeIndex(start=0, stop=8, step=1)"
      ]
     },
     "execution_count": 16,
     "metadata": {},
     "output_type": "execute_result"
    }
   ],
   "source": [
    "df.columns"
   ]
  },
  {
   "cell_type": "code",
   "execution_count": null,
   "id": "a945b7d4",
   "metadata": {},
   "outputs": [],
   "source": []
  }
 ],
 "metadata": {
  "kernelspec": {
   "display_name": "Python 3 (ipykernel)",
   "language": "python",
   "name": "python3"
  },
  "language_info": {
   "codemirror_mode": {
    "name": "ipython",
    "version": 3
   },
   "file_extension": ".py",
   "mimetype": "text/x-python",
   "name": "python",
   "nbconvert_exporter": "python",
   "pygments_lexer": "ipython3",
   "version": "3.11.5"
  }
 },
 "nbformat": 4,
 "nbformat_minor": 5
}
