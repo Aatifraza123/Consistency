{
 "cells": [
  {
   "cell_type": "code",
   "execution_count": 1,
   "id": "f3b1c0c8",
   "metadata": {},
   "outputs": [
    {
     "name": "stdout",
     "output_type": "stream",
     "text": [
      "aatif\n"
     ]
    }
   ],
   "source": [
    "print(\"aatif\")"
   ]
  },
  {
   "cell_type": "code",
   "execution_count": 3,
   "id": "14e670fa",
   "metadata": {},
   "outputs": [
    {
     "name": "stdout",
     "output_type": "stream",
     "text": [
      "9\n"
     ]
    }
   ],
   "source": [
    "print(3 + 6)"
   ]
  },
  {
   "cell_type": "code",
   "execution_count": 4,
   "id": "67c19ce2",
   "metadata": {},
   "outputs": [
    {
     "name": "stdout",
     "output_type": "stream",
     "text": [
      "7565\n"
     ]
    }
   ],
   "source": [
    "print(85 * 89)"
   ]
  },
  {
   "cell_type": "code",
   "execution_count": null,
   "id": "0e4404c5",
   "metadata": {},
   "outputs": [],
   "source": []
  }
 ],
 "metadata": {
  "kernelspec": {
   "display_name": "Python 3 (ipykernel)",
   "language": "python",
   "name": "python3"
  },
  "language_info": {
   "codemirror_mode": {
    "name": "ipython",
    "version": 3
   },
   "file_extension": ".py",
   "mimetype": "text/x-python",
   "name": "python",
   "nbconvert_exporter": "python",
   "pygments_lexer": "ipython3",
   "version": "3.11.5"
  }
 },
 "nbformat": 4,
 "nbformat_minor": 5
}
